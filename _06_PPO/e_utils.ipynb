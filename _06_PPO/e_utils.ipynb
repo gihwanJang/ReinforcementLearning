{
 "cells": [
  {
   "cell_type": "code",
   "execution_count": 1,
   "id": "36dd05d4-4ad5-44a6-b8bf-25b6bcdd4ccb",
   "metadata": {},
   "outputs": [],
   "source": [
    "import os\n",
    "from distutils.util import strtobool\n",
    "from glob import glob\n",
    "import cv2\n",
    "from PIL import Image\n",
    "import io\n",
    "import base64\n",
    "from IPython.display import HTML"
   ]
  },
  {
   "cell_type": "code",
   "execution_count": 2,
   "id": "bb4c3a6b-01c9-41e3-8d97-bafe99bb8b44",
   "metadata": {},
   "outputs": [],
   "source": [
    "def show_video(path: str):\n",
    "    \"\"\"\n",
    "    show video in jupyter notebook, agent interaction in environment.\n",
    "    Takes - path to dir with videos.\n",
    "    Returns - html video player in jupyter notebook.\n",
    "    \"\"\"  \n",
    "    video_path = sorted(glob(path + \"/*.mp4\"))[-1]\n",
    "    video = io.open(video_path, 'r+b').read()\n",
    "    encoded = base64.b64encode(video)\n",
    "\n",
    "    return HTML(data='''<video alt=\"test\" controls>\n",
    "    <source src=\"data:video/mp4;base64,{0}\" type=\"video/mp4\" /> </video>'''\n",
    "    .format(encoded.decode('ascii')))"
   ]
  },
  {
   "cell_type": "code",
   "execution_count": 3,
   "id": "dce44f6e-e5b7-407c-af2d-4af3f7c22457",
   "metadata": {},
   "outputs": [],
   "source": [
    "def convert_gif(path: str,\n",
    "                gif_name: str = 'gif_name.gif',\n",
    "                frame_limit: int = 100):\n",
    "    \"\"\"\n",
    "    convert video into GIF file.\n",
    "    path - path to dir with videos.\n",
    "    gif_name - name to save the GIF file.\n",
    "    frame_limit - the maximum number of frames in a GIF.\n",
    "    \"\"\"\n",
    "    video_path = glob(path + \"/*.mp4\")[-1]\n",
    "    vidcap = cv2.VideoCapture(video_path)\n",
    "    success, frame = vidcap.read()\n",
    "    count = 0\n",
    "\n",
    "    # extracting and saving video frames.\n",
    "    while success:\n",
    "        cv2.imwrite(f\"{path}/frame{count}.png\", frame)     \n",
    "        success, frame = vidcap.read()\n",
    "        count += 1\n",
    "        if count > frame_limit:\n",
    "            break\n",
    "    print(\"total frames:\", count)\n",
    "\n",
    "    # generate animated GIF.\n",
    "    img, *imgs = [Image.open(f) for f in sorted(glob(path+\"/*.png\"))]\n",
    "    img.save(fp=f\"{path}/{gif_name}\", format='GIF', append_images=imgs,\n",
    "         save_all=True, duration=200, loop=0)\n",
    "    \n",
    "    # remove frames\n",
    "    [os.remove(os.path.join(path, f)) for f in glob(path+\"/*.png\")]"
   ]
  },
  {
   "cell_type": "code",
   "execution_count": 4,
   "id": "cf1328e7-67e7-4a0b-9708-9e396671b984",
   "metadata": {},
   "outputs": [],
   "source": [
    "def boolean_argument(value):\n",
    "    \"\"\"Convert a string value to boolean.\"\"\"\n",
    "    return bool(strtobool(value))"
   ]
  }
 ],
 "metadata": {
  "kernelspec": {
   "display_name": "olympic",
   "language": "python",
   "name": "olympic"
  },
  "language_info": {
   "codemirror_mode": {
    "name": "ipython",
    "version": 3
   },
   "file_extension": ".py",
   "mimetype": "text/x-python",
   "name": "python",
   "nbconvert_exporter": "python",
   "pygments_lexer": "ipython3",
   "version": "3.11.4"
  }
 },
 "nbformat": 4,
 "nbformat_minor": 5
}
