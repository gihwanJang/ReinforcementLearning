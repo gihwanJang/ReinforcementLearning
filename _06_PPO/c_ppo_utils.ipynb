{
 "cells": [
  {
   "cell_type": "code",
   "execution_count": 1,
   "id": "2b3ddcee-e174-44c6-b841-678495178e19",
   "metadata": {},
   "outputs": [],
   "source": [
    "import numpy as np\n",
    "import torch"
   ]
  },
  {
   "cell_type": "code",
   "execution_count": 2,
   "id": "b3cfc9f6-0803-41c5-9a12-b9e840e6262b",
   "metadata": {},
   "outputs": [],
   "source": [
    "def get_gae(\n",
    "    rewards: list,\n",
    "    values: list,\n",
    "    is_terminals: list,\n",
    "    gamma: float,\n",
    "    lamda: float,\n",
    "    ):\n",
    "    \"\"\"\n",
    "    Takes: lists of rewards, state values, and 1-dones.\n",
    "    Returns: list with generalized adversarial estimators.\n",
    "    More details - https://arxiv.org/pdf/1506.02438.pdf.\n",
    "    \"\"\"\n",
    "    gae = 0\n",
    "    returns = []\n",
    "    for i in reversed(range(len(rewards))):\n",
    "        delta = (rewards[i] + gamma * values[i + 1] * is_terminals[i] - values[i])\n",
    "        gae = delta + gamma * lamda * is_terminals[i] * gae\n",
    "        returns.insert(0, gae + values[i])\n",
    "\n",
    "    return returns"
   ]
  },
  {
   "cell_type": "code",
   "execution_count": 3,
   "id": "44722e24-08c3-4327-92dd-2a42d0ff7aa1",
   "metadata": {},
   "outputs": [],
   "source": [
    "def trajectories_data_generator(\n",
    "    states: torch.Tensor,\n",
    "    actions: torch.Tensor,\n",
    "    returns: torch.Tensor,\n",
    "    log_probs: torch.Tensor,\n",
    "    values: torch.Tensor,\n",
    "    advantages: torch.Tensor,\n",
    "    batch_size,\n",
    "    num_epochs,\n",
    "    ):\n",
    "    \"\"\"data-generator.\"\"\"\n",
    "    data_len = states.size(0)\n",
    "    for _ in range(num_epochs):\n",
    "        for _ in range(data_len // batch_size):\n",
    "            ids = np.random.choice(data_len, batch_size)\n",
    "            yield states[ids, :], actions[ids], returns[ids], log_probs[ids], values[ids], advantages[ids]"
   ]
  }
 ],
 "metadata": {
  "kernelspec": {
   "display_name": "olympic",
   "language": "python",
   "name": "olympic"
  },
  "language_info": {
   "codemirror_mode": {
    "name": "ipython",
    "version": 3
   },
   "file_extension": ".py",
   "mimetype": "text/x-python",
   "name": "python",
   "nbconvert_exporter": "python",
   "pygments_lexer": "ipython3",
   "version": "3.11.4"
  }
 },
 "nbformat": 4,
 "nbformat_minor": 5
}
