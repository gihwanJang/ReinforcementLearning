{
 "cells": [
  {
   "cell_type": "code",
   "execution_count": 1,
   "id": "ddd4753a",
   "metadata": {},
   "outputs": [
    {
     "name": "stdout",
     "output_type": "stream",
     "text": [
      "gym.__version__: 0.29.1\n"
     ]
    }
   ],
   "source": [
    "import gymnasium as gym; print(f\"gym.__version__: {gym.__version__}\")\n",
    "import numpy as np"
   ]
  },
  {
   "cell_type": "code",
   "execution_count": 2,
   "id": "61b48dd0",
   "metadata": {},
   "outputs": [],
   "source": [
    "np.set_printoptions(edgeitems=10, linewidth=100000, formatter=dict(float=lambda x: \"%7.3f\" % x))"
   ]
  },
  {
   "cell_type": "code",
   "execution_count": 3,
   "id": "e1d8d0fa",
   "metadata": {},
   "outputs": [],
   "source": [
    "env = gym.make(\"LunarLander-v2\", render_mode=\"human\")"
   ]
  },
  {
   "cell_type": "code",
   "execution_count": 4,
   "id": "1dd14590",
   "metadata": {},
   "outputs": [],
   "source": [
    "def observation_and_action_space_info():\n",
    "    #####################\n",
    "    # observation space #\n",
    "    #####################\n",
    "    print(\"*\" * 80)\n",
    "    print(\"[observation_space]\")\n",
    "    print(\"env.observation_space: \", env.observation_space)\n",
    "    print(\"env.observation_space.high:\", env.observation_space.high)\n",
    "    print(\"env.observation_space.low:\", env.observation_space.low)\n",
    "    print(\"env.observation_space.shape:\", env.observation_space.shape)\n",
    "    for i in range(10):\n",
    "        print(env.observation_space.sample())\n",
    "    print()\n",
    "\n",
    "    print(\"*\" * 80)\n",
    "    ################\n",
    "    # action space #\n",
    "    ################\n",
    "    print(\"[action_space]\")\n",
    "    print(env.action_space)\n",
    "    print(\"env.action_space.n:\", env.action_space.n)\n",
    "    print(\"env.action_space.shape:\", env.action_space.shape)\n",
    "    for i in range(10):\n",
    "        print(env.action_space.sample(), end=\" \")"
   ]
  },
  {
   "cell_type": "code",
   "execution_count": 5,
   "id": "c116edee",
   "metadata": {},
   "outputs": [
    {
     "name": "stdout",
     "output_type": "stream",
     "text": [
      "********************************************************************************\n",
      "[observation_space]\n",
      "env.observation_space:  Box([ -1.500  -1.500  -5.000  -5.000  -3.142  -5.000  -0.000  -0.000], [  1.500   1.500   5.000   5.000   3.142   5.000   1.000   1.000], (8,), float32)\n",
      "env.observation_space.high: [  1.500   1.500   5.000   5.000   3.142   5.000   1.000   1.000]\n",
      "env.observation_space.low: [ -1.500  -1.500  -5.000  -5.000  -3.142  -5.000  -0.000  -0.000]\n",
      "env.observation_space.shape: (8,)\n",
      "[  0.832   0.538  -0.843  -2.191  -0.179  -1.008   0.533   0.038]\n",
      "[ -0.857   0.236   2.957  -0.782   0.915  -4.039   0.212   0.203]\n",
      "[ -0.311  -0.343  -3.850   0.210  -2.732  -1.544   0.311   0.410]\n",
      "[ -1.125   0.053  -2.981   3.616   0.472   3.458   0.190   0.108]\n",
      "[  0.974  -0.803   4.718  -4.368  -1.177  -0.534   0.597   0.617]\n",
      "[  0.796   0.858   3.893  -3.480   1.325  -0.440   0.441   0.899]\n",
      "[  1.077  -0.104   2.712   2.952  -1.426   1.918   0.703   0.697]\n",
      "[ -1.088   0.819  -3.277   1.514  -0.036   0.770   0.937   0.800]\n",
      "[  0.077   1.010   0.320   1.242  -3.126  -2.871   0.263   0.411]\n",
      "[  0.301   0.827   1.720  -0.271   1.449  -3.816   0.126   0.420]\n",
      "\n",
      "********************************************************************************\n",
      "[action_space]\n",
      "Discrete(4)\n",
      "env.action_space.n: 4\n",
      "env.action_space.shape: ()\n",
      "0 2 3 2 3 2 1 2 2 0 "
     ]
    }
   ],
   "source": [
    "if __name__ == \"__main__\":\n",
    "    observation_and_action_space_info()"
   ]
  }
 ],
 "metadata": {
  "kernelspec": {
   "display_name": "olympic",
   "language": "python",
   "name": "olympic"
  },
  "language_info": {
   "codemirror_mode": {
    "name": "ipython",
    "version": 3
   },
   "file_extension": ".py",
   "mimetype": "text/x-python",
   "name": "python",
   "nbconvert_exporter": "python",
   "pygments_lexer": "ipython3",
   "version": "3.11.4"
  }
 },
 "nbformat": 4,
 "nbformat_minor": 5
}
