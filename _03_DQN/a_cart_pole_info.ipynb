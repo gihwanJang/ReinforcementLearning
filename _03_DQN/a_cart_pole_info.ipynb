{
 "cells": [
  {
   "cell_type": "code",
   "execution_count": 2,
   "id": "04066ae6-2be8-4c0d-9376-f2cd6a65004e",
   "metadata": {},
   "outputs": [
    {
     "name": "stdout",
     "output_type": "stream",
     "text": [
      "gym.__version__: 0.29.1\n"
     ]
    }
   ],
   "source": [
    "import gymnasium as gym; print(\"gym.__version__:\", gym.__version__)\n",
    "import time"
   ]
  },
  {
   "cell_type": "code",
   "execution_count": 4,
   "id": "f7981344-e0a8-448b-b86d-2c1d040d8bfb",
   "metadata": {},
   "outputs": [],
   "source": [
    "env = gym.make('CartPole-v1', render_mode=\"rgb_array\")"
   ]
  },
  {
   "cell_type": "code",
   "execution_count": 5,
   "id": "6daeae5a-73fa-4147-b604-e7ccb98f9b2f",
   "metadata": {},
   "outputs": [],
   "source": [
    "ACTION_STRING_LIST = [\" LEFT\", \"RIGHT\"]"
   ]
  },
  {
   "cell_type": "code",
   "execution_count": 6,
   "id": "a2df5694-9b96-4907-a979-3b0e5eaefe0b",
   "metadata": {},
   "outputs": [],
   "source": [
    "def env_info_details():\n",
    "    #####################\n",
    "    # observation space #\n",
    "    #####################\n",
    "    print(\"*\" * 80)\n",
    "    print(\"[observation_space]\")\n",
    "    print(env.observation_space)\n",
    "    # We should expect to see 15 possible grids from 0 to 15 when\n",
    "    # we uniformly randomly sample from our observation space\n",
    "    for i in range(10):\n",
    "        print(env.observation_space.sample())\n",
    "    print()\n",
    "\n",
    "    print(\"*\" * 80)\n",
    "    ################\n",
    "    # action space #\n",
    "    ################\n",
    "    print(\"[action_space]\")\n",
    "    print(env.action_space)\n",
    "    print(env.action_space.n)\n",
    "    # We should expect to see 4 actions when\n",
    "    # we uniformly randomly sample:\n",
    "    #     1. LEFT: 0\n",
    "    #     2. RIGHT: 1\n",
    "    for i in range(10):\n",
    "        print(env.action_space.sample(), end=\" \")\n",
    "    print()\n",
    "\n",
    "    print(\"*\" * 80)\n",
    "    # This sets the initial state at S, our starting point\n",
    "    # We can render the environment to see where we are on the 4x4 frozenlake gridworld\n",
    "    observation, info = env.reset()\n",
    "\n",
    "    action = 1  # RIGHT\n",
    "    next_observation, reward, terminated, truncated, info = env.step(action)\n",
    "\n",
    "    print(\"Obs.: {0}, Action: {1}({2}), Next Obs.: {3}, Reward: {4}, \"\n",
    "          \"Terminated: {5}, Truncated: {6}, Info: {7}\".format(\n",
    "        observation, action, ACTION_STRING_LIST[action], next_observation, reward,\n",
    "        terminated, truncated, info\n",
    "    ))\n",
    "\n",
    "    observation = next_observation\n",
    "\n",
    "    time.sleep(3)\n",
    "\n",
    "    action = 1  # RIGHT\n",
    "    next_observation, reward, terminated, truncated, info = env.step(action)\n",
    "\n",
    "    print(\"Obs.: {0}, Action: {1}({2}), Next Obs.: {3}, Reward: {4}, \"\n",
    "          \"Terminated: {5}, Truncated: {6}, Info: {7}\".format(\n",
    "        observation, action, ACTION_STRING_LIST[action], next_observation, reward,\n",
    "        terminated, truncated, info\n",
    "    ))\n",
    "\n",
    "    print(\"*\" * 80)\n",
    "    time.sleep(2)"
   ]
  },
  {
   "cell_type": "code",
   "execution_count": 7,
   "id": "42035c55-13a5-4184-a9ec-0738aba4c7f9",
   "metadata": {},
   "outputs": [
    {
     "name": "stdout",
     "output_type": "stream",
     "text": [
      "********************************************************************************\n",
      "[observation_space]\n",
      "Box([-4.8000002e+00 -3.4028235e+38 -4.1887903e-01 -3.4028235e+38], [4.8000002e+00 3.4028235e+38 4.1887903e-01 3.4028235e+38], (4,), float32)\n",
      "[ 3.1331146e+00 -2.6447712e+38  2.7548230e-01 -1.7099092e+37]\n",
      "[ 4.1685357e+00  3.3793950e+37 -1.8941224e-01 -1.3130356e+38]\n",
      "[-4.2003613e+00  8.8527931e+37 -3.2938117e-01  2.8388512e+38]\n",
      "[ 4.2447824e+00 -9.4140906e+37 -3.4567723e-01 -2.5311259e+38]\n",
      "[2.0634553e+00 2.6306869e+38 2.3260623e-01 1.4439862e+38]\n",
      "[ 2.3732622e+00 -9.1200058e+37 -2.3474425e-02  1.3828887e+38]\n",
      "[-2.0378449e+00 -2.1872218e+38 -1.0614947e-01  6.9478231e+37]\n",
      "[-4.5438685e+00  3.2726621e+38 -5.8954533e-02  1.3049475e+38]\n",
      "[8.1342822e-01 2.5481882e+38 4.3683093e-02 1.7715275e+38]\n",
      "[-1.1216364e+00  5.1477825e+37  3.8590008e-01  9.3762068e+36]\n",
      "\n",
      "********************************************************************************\n",
      "[action_space]\n",
      "Discrete(2)\n",
      "2\n",
      "1 0 1 1 0 1 0 0 1 0 \n",
      "********************************************************************************\n",
      "Obs.: [ 0.02070093 -0.0117056  -0.01411683 -0.0120862 ], Action: 1(RIGHT), Next Obs.: [ 0.02046681  0.18361592 -0.01435855 -0.3091895 ], Reward: 1.0, Terminated: False, Truncated: False, Info: {}\n",
      "Obs.: [ 0.02046681  0.18361592 -0.01435855 -0.3091895 ], Action: 1(RIGHT), Next Obs.: [ 0.02413913  0.37893948 -0.02054234 -0.6063659 ], Reward: 1.0, Terminated: False, Truncated: False, Info: {}\n",
      "********************************************************************************\n"
     ]
    }
   ],
   "source": [
    "if __name__ == \"__main__\":\n",
    "    env_info_details()"
   ]
  },
  {
   "cell_type": "markdown",
   "id": "e996c718-d73f-4c43-ac6a-6d3cb2424da0",
   "metadata": {},
   "source": [
    "- env.observation_space : minimum observation, maximum obervation, shape, type\n",
    "- env.observation_space.sample() : get random observation\n",
    "- env.action_space : Discrete(2) left, right\n",
    "- env.action_space.n : 2\n",
    "- env.action_space.sample() : get random action (0(left), 1(right))"
   ]
  }
 ],
 "metadata": {
  "kernelspec": {
   "display_name": "olympic",
   "language": "python",
   "name": "olympic"
  },
  "language_info": {
   "codemirror_mode": {
    "name": "ipython",
    "version": 3
   },
   "file_extension": ".py",
   "mimetype": "text/x-python",
   "name": "python",
   "nbconvert_exporter": "python",
   "pygments_lexer": "ipython3",
   "version": "3.11.4"
  }
 },
 "nbformat": 4,
 "nbformat_minor": 5
}
