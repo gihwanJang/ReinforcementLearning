{
 "cells": [
  {
   "cell_type": "code",
   "execution_count": 6,
   "id": "9196f96f-19ee-4dd8-acc2-a685e543920b",
   "metadata": {},
   "outputs": [
    {
     "name": "stdout",
     "output_type": "stream",
     "text": [
      "gym.__version__: 0.29.1\n"
     ]
    }
   ],
   "source": [
    "import gymnasium as gym; print(\"gym.__version__:\", gym.__version__)\n",
    "import random\n",
    "import time"
   ]
  },
  {
   "cell_type": "code",
   "execution_count": 7,
   "id": "d6ca8e72-d9b1-4b2f-8695-c419e6b79683",
   "metadata": {},
   "outputs": [],
   "source": [
    "env = gym.make('CartPole-v1', render_mode=\"rgb_array\")\n",
    "ACTION_STRING_LIST = [\" LEFT\", \"RIGHT\"]"
   ]
  },
  {
   "cell_type": "code",
   "execution_count": 8,
   "id": "f42f11e5-3f6f-4fe3-b184-bc42803830f7",
   "metadata": {},
   "outputs": [],
   "source": [
    "class Dummy_Agent:\n",
    "    def get_action(self, observation):\n",
    "        available_action_ids = [0, 1]\n",
    "        action_id = random.choice(available_action_ids)\n",
    "        return action_id"
   ]
  },
  {
   "cell_type": "markdown",
   "id": "e80c22da-c0f6-45fa-93e1-b3c3a29a837c",
   "metadata": {},
   "source": [
    "### Dummy_Agnet\n",
    "- this class just dummy\n",
    "- choice random action"
   ]
  },
  {
   "cell_type": "code",
   "execution_count": 9,
   "id": "3984ab3a-d738-4457-ae4f-1900b98a3f19",
   "metadata": {},
   "outputs": [],
   "source": [
    "def run_env():\n",
    "    print(\"START RUN!!!\")\n",
    "    agent = Dummy_Agent()\n",
    "    observation, info = env.reset()\n",
    "\n",
    "    done = False\n",
    "    episode_step = 1\n",
    "    while not done:\n",
    "        action = agent.get_action(observation)\n",
    "        next_observation, reward, terminated, truncated, info = env.step(action)\n",
    "\n",
    "        print(\"[Step: {0:3}] Obs.: {1:>2}, Action: {2}({3}), Next Obs.: {4}, \"\n",
    "              \"Reward: {5}, terminated: {6}, Truncated: {7}, Info: {8}\".format(\n",
    "            episode_step, str(observation), action, ACTION_STRING_LIST[action], str(next_observation),\n",
    "            reward, terminated, truncated, info\n",
    "        ))\n",
    "        observation = next_observation\n",
    "        done = terminated or truncated\n",
    "        episode_step += 1\n",
    "        time.sleep(0.1)"
   ]
  },
  {
   "cell_type": "code",
   "execution_count": 10,
   "id": "bd5953e3-9900-430b-bfc7-199e2c0c58cb",
   "metadata": {},
   "outputs": [
    {
     "name": "stdout",
     "output_type": "stream",
     "text": [
      "START RUN!!!\n",
      "[Step:   1] Obs.: [-0.01171738  0.01863594 -0.03305603 -0.00459378], Action: 0( LEFT), Next Obs.: [-0.01134466 -0.17599672 -0.03314791  0.27747902], Reward: 1.0, terminated: False, Truncated: False, Info: {}\n",
      "[Step:   2] Obs.: [-0.01134466 -0.17599672 -0.03314791  0.27747902], Action: 0( LEFT), Next Obs.: [-0.01486459 -0.37063047 -0.02759832  0.5595256 ], Reward: 1.0, terminated: False, Truncated: False, Info: {}\n",
      "[Step:   3] Obs.: [-0.01486459 -0.37063047 -0.02759832  0.5595256 ], Action: 0( LEFT), Next Obs.: [-0.0222772  -0.5653544  -0.01640781  0.84338737], Reward: 1.0, terminated: False, Truncated: False, Info: {}\n",
      "[Step:   4] Obs.: [-0.0222772  -0.5653544  -0.01640781  0.84338737], Action: 0( LEFT), Next Obs.: [-3.3584289e-02 -7.6024866e-01  4.5993537e-04  1.1308657e+00], Reward: 1.0, terminated: False, Truncated: False, Info: {}\n",
      "[Step:   5] Obs.: [-3.3584289e-02 -7.6024866e-01  4.5993537e-04  1.1308657e+00], Action: 1(RIGHT), Next Obs.: [-0.04878926 -0.56513274  0.02307725  0.83832705], Reward: 1.0, terminated: False, Truncated: False, Info: {}\n",
      "[Step:   6] Obs.: [-0.04878926 -0.56513274  0.02307725  0.83832705], Action: 1(RIGHT), Next Obs.: [-0.06009192 -0.37033337  0.03984379  0.55298996], Reward: 1.0, terminated: False, Truncated: False, Info: {}\n",
      "[Step:   7] Obs.: [-0.06009192 -0.37033337  0.03984379  0.55298996], Action: 0( LEFT), Next Obs.: [-0.06749859 -0.5659915   0.05090359  0.8579553 ], Reward: 1.0, terminated: False, Truncated: False, Info: {}\n",
      "[Step:   8] Obs.: [-0.06749859 -0.5659915   0.05090359  0.8579553 ], Action: 0( LEFT), Next Obs.: [-0.07881842 -0.76176864  0.06806269  1.1661997 ], Reward: 1.0, terminated: False, Truncated: False, Info: {}\n",
      "[Step:   9] Obs.: [-0.07881842 -0.76176864  0.06806269  1.1661997 ], Action: 0( LEFT), Next Obs.: [-0.09405379 -0.95770717  0.09138669  1.479422  ], Reward: 1.0, terminated: False, Truncated: False, Info: {}\n",
      "[Step:  10] Obs.: [-0.09405379 -0.95770717  0.09138669  1.479422  ], Action: 1(RIGHT), Next Obs.: [-0.11320793 -0.7638118   0.12097513  1.216623  ], Reward: 1.0, terminated: False, Truncated: False, Info: {}\n",
      "[Step:  11] Obs.: [-0.11320793 -0.7638118   0.12097513  1.216623  ], Action: 0( LEFT), Next Obs.: [-0.12848417 -0.96026826  0.14530759  1.5446337 ], Reward: 1.0, terminated: False, Truncated: False, Info: {}\n",
      "[Step:  12] Obs.: [-0.12848417 -0.96026826  0.14530759  1.5446337 ], Action: 0( LEFT), Next Obs.: [-0.14768954 -1.1568063   0.17620026  1.8789043 ], Reward: 1.0, terminated: False, Truncated: False, Info: {}\n",
      "[Step:  13] Obs.: [-0.14768954 -1.1568063   0.17620026  1.8789043 ], Action: 1(RIGHT), Next Obs.: [-0.17082566 -0.96398914  0.21377835  1.645692  ], Reward: 1.0, terminated: True, Truncated: False, Info: {}\n"
     ]
    }
   ],
   "source": [
    "if __name__ == \"__main__\":\n",
    "    run_env()"
   ]
  },
  {
   "cell_type": "code",
   "execution_count": null,
   "id": "1ec1e271-6152-4664-b5a4-13d9cb91b010",
   "metadata": {},
   "outputs": [],
   "source": []
  }
 ],
 "metadata": {
  "kernelspec": {
   "display_name": "olympic",
   "language": "python",
   "name": "olympic"
  },
  "language_info": {
   "codemirror_mode": {
    "name": "ipython",
    "version": 3
   },
   "file_extension": ".py",
   "mimetype": "text/x-python",
   "name": "python",
   "nbconvert_exporter": "python",
   "pygments_lexer": "ipython3",
   "version": "3.11.4"
  }
 },
 "nbformat": 4,
 "nbformat_minor": 5
}
