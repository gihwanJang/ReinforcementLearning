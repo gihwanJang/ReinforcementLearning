{
 "cells": [
  {
   "cell_type": "code",
   "execution_count": 2,
   "id": "e6434e50-ee2c-488f-a2a0-b942e75c6795",
   "metadata": {},
   "outputs": [],
   "source": [
    "import os\n",
    "import gymnasium as gym\n",
    "import torch\n",
    "import import_ipynb"
   ]
  },
  {
   "cell_type": "code",
   "execution_count": 3,
   "id": "7bd05f7c-bc2b-4b46-9b23-003aae4178b2",
   "metadata": {},
   "outputs": [
    {
     "name": "stdout",
     "output_type": "stream",
     "text": [
      "importing Jupyter notebook from c_qnet.ipynb\n",
      "TORCH VERSION: 2.0.1\n"
     ]
    }
   ],
   "source": [
    "from c_qnet import QNet, MODEL_DIR"
   ]
  },
  {
   "cell_type": "code",
   "execution_count": 4,
   "id": "aaa6cd52-36df-48ec-82ee-1291acdc8ba7",
   "metadata": {},
   "outputs": [],
   "source": [
    "def test(env, q, num_episodes):\n",
    "    for i in range(num_episodes):\n",
    "        episode_reward = 0  # cumulative_reward\n",
    "\n",
    "        # Environment 초기화와 변수 초기화\n",
    "        observation, _ = env.reset()\n",
    "\n",
    "        episode_steps = 0\n",
    "\n",
    "        done = False\n",
    "\n",
    "        while not done:\n",
    "            episode_steps += 1\n",
    "            action = q.get_action(observation, epsilon=0.0)\n",
    "\n",
    "            next_observation, reward, terminated, truncated, _ = env.step(action)\n",
    "\n",
    "            episode_reward += reward\n",
    "            observation = next_observation\n",
    "            done = terminated or truncated\n",
    "\n",
    "        print(\"[EPISODE: {0}] EPISODE_STEPS: {1:3d}, EPISODE REWARD: {2:4.1f}\".format(\n",
    "            i, episode_steps, episode_reward\n",
    "        ))"
   ]
  },
  {
   "cell_type": "code",
   "execution_count": 5,
   "id": "59336f17-c6fc-4100-9c88-e2dacdeac81a",
   "metadata": {},
   "outputs": [],
   "source": [
    "def main_play(num_episodes, env_name):\n",
    "    env = gym.make(env_name, render_mode=\"human\")\n",
    "\n",
    "    q = QNet(n_features=4, n_actions=2)\n",
    "    model_params = torch.load(os.path.join(MODEL_DIR, \"dqn_{0}_latest.pth\".format(env_name)))\n",
    "    q.load_state_dict(model_params)\n",
    "\n",
    "    test(env, q, num_episodes=num_episodes)\n",
    "\n",
    "    env.close()"
   ]
  },
  {
   "cell_type": "code",
   "execution_count": 6,
   "id": "7695a3e5-0c59-4e81-a3f1-861e1c87ba43",
   "metadata": {},
   "outputs": [
    {
     "name": "stdout",
     "output_type": "stream",
     "text": [
      "[EPISODE: 0] EPISODE_STEPS: 500, EPISODE REWARD: 500.0\n",
      "[EPISODE: 1] EPISODE_STEPS: 500, EPISODE REWARD: 500.0\n",
      "[EPISODE: 2] EPISODE_STEPS: 500, EPISODE REWARD: 500.0\n"
     ]
    }
   ],
   "source": [
    "if __name__ == \"__main__\":\n",
    "    NUM_EPISODES = 3\n",
    "    ENV_NAME = \"CartPole-v1\"\n",
    "\n",
    "    main_play(num_episodes=NUM_EPISODES, env_name=ENV_NAME)"
   ]
  },
  {
   "cell_type": "code",
   "execution_count": null,
   "id": "e27eb521-8b9b-47a1-a16d-d7f2694b1789",
   "metadata": {},
   "outputs": [],
   "source": []
  }
 ],
 "metadata": {
  "kernelspec": {
   "display_name": "olympic",
   "language": "python",
   "name": "olympic"
  },
  "language_info": {
   "codemirror_mode": {
    "name": "ipython",
    "version": 3
   },
   "file_extension": ".py",
   "mimetype": "text/x-python",
   "name": "python",
   "nbconvert_exporter": "python",
   "pygments_lexer": "ipython3",
   "version": "3.11.4"
  }
 },
 "nbformat": 4,
 "nbformat_minor": 5
}
