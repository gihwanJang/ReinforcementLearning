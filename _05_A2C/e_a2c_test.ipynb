{
 "cells": [
  {
   "cell_type": "code",
   "execution_count": 1,
   "id": "dea1bffc-916d-4d2b-afd7-0fda5f6581db",
   "metadata": {},
   "outputs": [
    {
     "name": "stdout",
     "output_type": "stream",
     "text": [
      "importing Jupyter notebook from c_actor_and_critic.ipynb\n",
      "TORCH VERSION: 2.0.1\n"
     ]
    }
   ],
   "source": [
    "import os\n",
    "os.environ['KMP_DUPLICATE_LIB_OK'] = 'True'\n",
    "\n",
    "import gymnasium as gym\n",
    "import torch\n",
    "\n",
    "import import_ipynb\n",
    "from c_actor_and_critic import MODEL_DIR, Actor"
   ]
  },
  {
   "cell_type": "code",
   "execution_count": 2,
   "id": "b8c8f96f-fe72-4f5c-832d-72291a360d8a",
   "metadata": {},
   "outputs": [],
   "source": [
    "def test(env, actor, num_episodes):\n",
    "    for i in range(num_episodes):\n",
    "        episode_reward = 0  # cumulative_reward\n",
    "\n",
    "        # Environment 초기화와 변수 초기화\n",
    "        observation, _ = env.reset()\n",
    "\n",
    "        episode_steps = 0\n",
    "\n",
    "        done = False\n",
    "\n",
    "        while not done:\n",
    "            episode_steps += 1\n",
    "            # action = actor.get_action(observation)\n",
    "            action = actor.get_action(observation, exploration=False)\n",
    "\n",
    "            next_observation, reward, terminated, truncated, _ = env.step(action * 2)\n",
    "\n",
    "            episode_reward += reward\n",
    "            observation = next_observation\n",
    "            done = terminated or truncated\n",
    "\n",
    "        print(\"[EPISODE: {0}] EPISODE_STEPS: {1:3d}, EPISODE REWARD: {2:4.1f}\".format(\n",
    "            i, episode_steps, episode_reward\n",
    "        ))"
   ]
  },
  {
   "cell_type": "code",
   "execution_count": 3,
   "id": "5a3b04a7-63f4-4bd9-9901-fc8773935a5a",
   "metadata": {},
   "outputs": [],
   "source": [
    "def main_play(num_episodes, env_name):\n",
    "    env = gym.make(env_name, render_mode=\"human\")\n",
    "\n",
    "    actor = Actor(n_features=3, n_actions=1)\n",
    "    model_params = torch.load(os.path.join(MODEL_DIR, \"a2c_{0}_latest.pth\".format(env_name)))\n",
    "    actor.load_state_dict(model_params)\n",
    "\n",
    "    test(env, actor, num_episodes=num_episodes)\n",
    "\n",
    "    env.close()"
   ]
  },
  {
   "cell_type": "code",
   "execution_count": 4,
   "id": "a0d4a4fe-76b0-40e0-8821-7b79661214c0",
   "metadata": {},
   "outputs": [
    {
     "name": "stdout",
     "output_type": "stream",
     "text": [
      "[EPISODE: 0] EPISODE_STEPS: 200, EPISODE REWARD: -3.2\n",
      "[EPISODE: 1] EPISODE_STEPS: 200, EPISODE REWARD: -1.4\n",
      "[EPISODE: 2] EPISODE_STEPS: 200, EPISODE REWARD: -231.8\n"
     ]
    }
   ],
   "source": [
    "if __name__ == \"__main__\":\n",
    "    NUM_EPISODES = 3\n",
    "    ENV_NAME = \"Pendulum-v1\"\n",
    "\n",
    "    main_play(num_episodes=NUM_EPISODES, env_name=ENV_NAME)"
   ]
  }
 ],
 "metadata": {
  "kernelspec": {
   "display_name": "olympic",
   "language": "python",
   "name": "olympic"
  },
  "language_info": {
   "codemirror_mode": {
    "name": "ipython",
    "version": 3
   },
   "file_extension": ".py",
   "mimetype": "text/x-python",
   "name": "python",
   "nbconvert_exporter": "python",
   "pygments_lexer": "ipython3",
   "version": "3.11.4"
  }
 },
 "nbformat": 4,
 "nbformat_minor": 5
}
