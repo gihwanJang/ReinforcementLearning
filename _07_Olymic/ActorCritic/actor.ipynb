{
 "cells": [
  {
   "cell_type": "code",
   "execution_count": 2,
   "id": "4ce3c03d-168d-4554-ac69-6b7cbbea00eb",
   "metadata": {},
   "outputs": [
    {
     "name": "stdout",
     "output_type": "stream",
     "text": [
      "importing Jupyter notebook from cnn.ipynb\n"
     ]
    }
   ],
   "source": [
    "import sys\n",
    "import torch\n",
    "import torch.nn as nn\n",
    "import torch.nn.functional as F\n",
    "import torch.optim as optim\n",
    "from torch.distributions import Normal, Categorical\n",
    "import numpy as np\n",
    "\n",
    "import import_ipynb\n",
    "import os\n",
    "os.chdir('/Users/jang-gihwan/Desktop/DeepLearing/ReinforcementLearning/_07_Olymic/ActorCritic')\n",
    "from cnn import CnnEncoder"
   ]
  },
  {
   "cell_type": "code",
   "execution_count": null,
   "id": "7a19dfc7-502f-4548-a7ee-a6f82670c486",
   "metadata": {},
   "outputs": [],
   "source": [
    "class ContinuousActor(nn.Module):\n",
    "    def __init__(\n",
    "        self, encoder, device\n",
    "    ):\n",
    "        \"\"\"Initialize.\"\"\"\n",
    "        super(ContinuousActor, self).__init__()\n",
    "\n",
    "        self.device = device\n",
    "\n",
    "        self.encoder = encoder\n",
    "        self.cnn_net = nn.Sequential(\n",
    "            nn.Conv2d(in_channels=8, out_channels=16, kernel_size=3, stride=1, padding=1),\n",
    "            nn.ReLU(),\n",
    "            nn.MaxPool2d(kernel_size=2, stride=2),  # Output: [16, 4, 4]\n",
    "\n",
    "            nn.Conv2d(in_channels=16, out_channels=32, kernel_size=3, stride=1, padding=1),\n",
    "            nn.ReLU(),\n",
    "            nn.MaxPool2d(kernel_size=2, stride=2),  # Output: [32, 2, 2]\n",
    "\n",
    "            nn.Flatten()\n",
    "        )\n",
    "\n",
    "        self.hidden = nn.Linear(128, 32)\n",
    "\n",
    "        self.mu_layer = nn.Linear(32, 2)\n",
    "        self.log_std_layer = nn.Linear(32, 2)\n",
    "\n",
    "        self.relu = nn.ReLU()\n",
    "        self.tanh = nn.Tanh()\n",
    "\n",
    "        # for name, parameter in self.named_parameters():\n",
    "        #     print(name, \"actor parameter\")\n",
    "\n",
    "    def forward(self, state: torch.Tensor) -> torch.Tensor:\n",
    "        \"\"\"Forward method implementation.\"\"\"\n",
    "\n",
    "        x_1 = self.encoder(state)\n",
    "        x_2 = self.cnn_net(x_1)\n",
    "        # print(x_2.shape, \"!@$%$%#$%#$@\")\n",
    "        x_3 = self.hidden(x_2)\n",
    "        x_4 = self.relu(x_3)\n",
    "\n",
    "        x_mu = self.mu_layer(x_4)\n",
    "        x_log = self.log_std_layer(x_4)\n",
    "\n",
    "        mu = self.tanh(x_mu)\n",
    "        log_std = self.tanh(x_log)\n",
    "\n",
    "        std = torch.exp(log_std)\n",
    "        dist = Normal(mu, std)\n",
    "        action = dist.sample()\n",
    "\n",
    "        return action, dist"
   ]
  },
  {
   "cell_type": "code",
   "execution_count": null,
   "id": "fcb6badb-a738-4144-91aa-416306e0b0c0",
   "metadata": {},
   "outputs": [],
   "source": []
  }
 ],
 "metadata": {
  "kernelspec": {
   "display_name": "olympic",
   "language": "python",
   "name": "olympic"
  },
  "language_info": {
   "codemirror_mode": {
    "name": "ipython",
    "version": 3
   },
   "file_extension": ".py",
   "mimetype": "text/x-python",
   "name": "python",
   "nbconvert_exporter": "python",
   "pygments_lexer": "ipython3",
   "version": "3.11.4"
  }
 },
 "nbformat": 4,
 "nbformat_minor": 5
}
