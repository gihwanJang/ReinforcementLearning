{
 "cells": [
  {
   "cell_type": "code",
   "execution_count": 4,
   "id": "932bcbac-b48d-4814-bd58-b3d0dc1bb6ec",
   "metadata": {},
   "outputs": [],
   "source": [
    "import torch\n",
    "import torch.nn as nn\n",
    "import torch.nn.functional as F\n",
    "import torch.optim as optim\n",
    "from torch.distributions import Normal, Categorical\n",
    "import numpy as np\n",
    "import os\n",
    "os.chdir('/Users/jang-gihwan/Desktop/DeepLearing/ReinforcementLearning/_07_Olymic/ActorCritic')"
   ]
  },
  {
   "cell_type": "code",
   "execution_count": 5,
   "id": "68c5eae3-87f2-46b1-89a0-063e0052ba15",
   "metadata": {},
   "outputs": [],
   "source": [
    "class CnnEncoder(nn.Module):\n",
    "    def __init__(self):\n",
    "        super(CnnEncoder, self).__init__()\n",
    "\n",
    "        self.encoder = nn.Sequential(\n",
    "            nn.Conv2d(4, 8, kernel_size=3, padding=1, stride=1),\n",
    "            nn.ReLU(),\n",
    "            nn.MaxPool2d(4, 2),\n",
    "            nn.Conv2d(8, 8, kernel_size=3, padding=1, stride=1),\n",
    "            nn.ReLU(),\n",
    "            nn.MaxPool2d(4, 2)\n",
    "        )\n",
    "\n",
    "    def forward(self, view_state):\n",
    "        # [batch, 128]\n",
    "        x = self.encoder(view_state)\n",
    "        return x"
   ]
  },
  {
   "cell_type": "code",
   "execution_count": null,
   "id": "5b9301b0-2c21-421e-97b1-0ce0a66add7d",
   "metadata": {},
   "outputs": [],
   "source": []
  }
 ],
 "metadata": {
  "kernelspec": {
   "display_name": "olympic",
   "language": "python",
   "name": "olympic"
  },
  "language_info": {
   "codemirror_mode": {
    "name": "ipython",
    "version": 3
   },
   "file_extension": ".py",
   "mimetype": "text/x-python",
   "name": "python",
   "nbconvert_exporter": "python",
   "pygments_lexer": "ipython3",
   "version": "3.11.4"
  }
 },
 "nbformat": 4,
 "nbformat_minor": 5
}
