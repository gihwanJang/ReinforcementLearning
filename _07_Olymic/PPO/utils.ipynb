{
 "cells": [
  {
   "cell_type": "code",
   "execution_count": 3,
   "id": "373c20e7-99b1-4c4f-a781-b81f951f060d",
   "metadata": {},
   "outputs": [],
   "source": [
    "import sys\n",
    "import numpy as np\n",
    "import torch\n",
    "\n",
    "sys.path.append(\"./\")"
   ]
  },
  {
   "cell_type": "code",
   "execution_count": 4,
   "id": "65d64a64-ce81-4334-9d94-bf4b6fda53d6",
   "metadata": {},
   "outputs": [],
   "source": [
    "def get_gae(\n",
    "    rewards: list,\n",
    "    values: list,\n",
    "    is_terminals: list,\n",
    "    gamma: float,\n",
    "    lamda: float,\n",
    "    ):\n",
    "    \"\"\"\n",
    "    Takes: lists of rewards, state values, and 1-dones.\n",
    "    Returns: list with generalized adversarial estimators.\n",
    "    More details - https://arxiv.org/pdf/1506.02438.pdf.\n",
    "    \"\"\"\n",
    "    gae = 0\n",
    "    returns = []\n",
    "    for i in reversed(range(len(rewards))):\n",
    "        delta = (rewards[i] + gamma * values[i + 1] * is_terminals[i] - values[i])\n",
    "        gae = delta + gamma * lamda * is_terminals[i] * gae\n",
    "        returns.insert(0, gae + values[i])\n",
    "\n",
    "    return returns\n",
    "\n",
    "def trajectories_data_generator(\n",
    "    states: torch.Tensor,\n",
    "    actions: torch.Tensor,\n",
    "    returns: torch.Tensor,\n",
    "    log_probs: torch.Tensor,\n",
    "    values: torch.Tensor,\n",
    "    advantages: torch.Tensor,\n",
    "    batch_size,\n",
    "    num_epochs,\n",
    "    ):\n",
    "    \"\"\"data-generator.\"\"\"\n",
    "    data_len = states.size(0)\n",
    "    for _ in range(num_epochs):\n",
    "        for _ in range(data_len // batch_size):\n",
    "            ids = np.random.choice(data_len, batch_size)\n",
    "            yield states[ids, :], actions[ids], returns[ids], log_probs[ids], values[ids], advantages[ids]"
   ]
  },
  {
   "cell_type": "code",
   "execution_count": null,
   "id": "5387d0c7-d2de-4574-9419-966c675d76c4",
   "metadata": {},
   "outputs": [],
   "source": []
  }
 ],
 "metadata": {
  "kernelspec": {
   "display_name": "olympic",
   "language": "python",
   "name": "olympic"
  },
  "language_info": {
   "codemirror_mode": {
    "name": "ipython",
    "version": 3
   },
   "file_extension": ".py",
   "mimetype": "text/x-python",
   "name": "python",
   "nbconvert_exporter": "python",
   "pygments_lexer": "ipython3",
   "version": "3.11.4"
  }
 },
 "nbformat": 4,
 "nbformat_minor": 5
}
