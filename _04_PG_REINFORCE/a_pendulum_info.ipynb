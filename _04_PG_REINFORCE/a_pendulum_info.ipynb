{
 "cells": [
  {
   "cell_type": "code",
   "execution_count": 1,
   "id": "ee309e98-2141-477e-882a-26593ab131b9",
   "metadata": {},
   "outputs": [],
   "source": [
    "# https://gymnasium.farama.org/environments/classic_control/pendulum\n",
    "import gymnasium as gym\n",
    "import time\n",
    "import numpy as np"
   ]
  },
  {
   "cell_type": "code",
   "execution_count": 2,
   "id": "ac6cf7e0-77f0-4c37-a317-5440bef21c50",
   "metadata": {},
   "outputs": [
    {
     "name": "stdout",
     "output_type": "stream",
     "text": [
      "gym.__version__: 0.29.1\n"
     ]
    }
   ],
   "source": [
    "print(\"gym.__version__:\", gym.__version__)\n",
    "np.set_printoptions(formatter={'float': '{:5.2f}'.format})"
   ]
  },
  {
   "cell_type": "code",
   "execution_count": 15,
   "id": "979a292d-7bf7-4bf6-af44-523b64febbb9",
   "metadata": {},
   "outputs": [],
   "source": [
    "env = gym.make('Pendulum-v1', render_mode=\"human\")"
   ]
  },
  {
   "cell_type": "code",
   "execution_count": 16,
   "id": "dadd99d4-f473-4b32-bc09-558a679720cb",
   "metadata": {},
   "outputs": [],
   "source": [
    "def env_info_details():\n",
    "    print(\"*\" * 80)\n",
    "    print(\"[observation_space]\")\n",
    "    print(env.observation_space)\n",
    "    print(\"shape : \",env.observation_space.shape)\n",
    "    for i in range(10):\n",
    "        print(env.observation_space.sample())\n",
    "    print()\n",
    "\n",
    "    print(\"*\" * 80)\n",
    "    print(\"[action_space]\")\n",
    "    print(env.action_space)\n",
    "    print(\"shape : \",env.action_space.shape)\n",
    "    for i in range(10):\n",
    "        print(env.action_space.sample())\n",
    "    print()\n",
    "\n",
    "    print(\"*\" * 80)\n",
    "    observation, info = env.reset()\n",
    "\n",
    "    action = env.action_space.sample()\n",
    "    next_observation, reward, terminated, truncated, info = env.step(action)\n",
    "\n",
    "    print(\"Obs.: {0}, Action: {1}, Next Obs.: {2}, Reward: {3:6.2f}, \"\n",
    "          \"Terminated: {4}, Truncated: {5}, Info: {6}\".format(\n",
    "        observation, action, next_observation, reward, terminated, truncated, info\n",
    "    ))\n",
    "\n",
    "    observation = next_observation\n",
    "\n",
    "    time.sleep(3)\n",
    "\n",
    "    action = env.action_space.sample()\n",
    "    next_observation, reward, terminated, truncated, info = env.step(action)\n",
    "\n",
    "    print(\"Obs.: {0}, Action: {1}, Next Obs.: {2}, Reward: {3:6.2f}, \"\n",
    "          \"Terminated: {4}, Truncated: {5}, Info: {6}\".format(\n",
    "        observation, action, next_observation, reward, terminated, truncated, info\n",
    "    ))\n",
    "\n",
    "    print(\"*\" * 80)\n",
    "    time.sleep(2)"
   ]
  },
  {
   "cell_type": "code",
   "execution_count": 17,
   "id": "0239c3e5-b0ce-4aea-8e3c-b2a2a428cc75",
   "metadata": {},
   "outputs": [
    {
     "name": "stdout",
     "output_type": "stream",
     "text": [
      "********************************************************************************\n",
      "[observation_space]\n",
      "Box([-1.00 -1.00 -8.00], [ 1.00  1.00  8.00], (3,), float32)\n",
      "shape :  (3,)\n",
      "[-0.77  0.39  0.51]\n",
      "[ 0.07 -0.62  4.15]\n",
      "[-0.74 -0.38  1.99]\n",
      "[-0.99 -0.09 -1.51]\n",
      "[-0.42 -0.23 -1.97]\n",
      "[ 0.64 -0.75 -3.85]\n",
      "[ 0.30  0.58  3.60]\n",
      "[-0.16  0.83 -2.65]\n",
      "[ 0.84  0.04 -7.26]\n",
      "[-0.79  0.32 -4.72]\n",
      "\n",
      "********************************************************************************\n",
      "[action_space]\n",
      "Box(-2.0, 2.0, (1,), float32)\n",
      "shape :  (1,)\n",
      "[-0.02]\n",
      "[ 0.33]\n",
      "[-0.72]\n",
      "[-0.70]\n",
      "[ 0.43]\n",
      "[ 1.71]\n",
      "[-1.73]\n",
      "[ 1.11]\n",
      "[ 0.91]\n",
      "[-0.71]\n",
      "\n",
      "********************************************************************************\n",
      "Obs.: [-0.93 -0.36  0.21], Action: [-1.46], Next Obs.: [-0.94 -0.35 -0.28], Reward:  -7.69, Terminated: False, Truncated: False, Info: {}\n",
      "Obs.: [-0.94 -0.35 -0.28], Action: [ 1.42], Next Obs.: [-0.94 -0.33 -0.33], Reward:  -7.77, Terminated: False, Truncated: False, Info: {}\n",
      "********************************************************************************\n"
     ]
    }
   ],
   "source": [
    "if __name__ == \"__main__\":\n",
    "    env_info_details()"
   ]
  },
  {
   "cell_type": "markdown",
   "id": "d8865392-5668-4b3a-98f3-d084dc3b1334",
   "metadata": {},
   "source": [
    "- observation shape : 3\n",
    "- action shape : 1"
   ]
  }
 ],
 "metadata": {
  "kernelspec": {
   "display_name": "olympic",
   "language": "python",
   "name": "olympic"
  },
  "language_info": {
   "codemirror_mode": {
    "name": "ipython",
    "version": 3
   },
   "file_extension": ".py",
   "mimetype": "text/x-python",
   "name": "python",
   "nbconvert_exporter": "python",
   "pygments_lexer": "ipython3",
   "version": "3.11.4"
  }
 },
 "nbformat": 4,
 "nbformat_minor": 5
}
