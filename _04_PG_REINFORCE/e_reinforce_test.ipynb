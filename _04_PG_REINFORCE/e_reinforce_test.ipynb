{
 "cells": [
  {
   "cell_type": "code",
   "execution_count": 1,
   "id": "befbef86-c1e1-463b-9339-cae768c223a2",
   "metadata": {},
   "outputs": [
    {
     "name": "stdout",
     "output_type": "stream",
     "text": [
      "importing Jupyter notebook from c_policy_and_value.ipynb\n",
      "TORCH VERSION: 2.0.1\n"
     ]
    }
   ],
   "source": [
    "import os\n",
    "os.environ['KMP_DUPLICATE_LIB_OK'] = 'True'\n",
    "\n",
    "import gymnasium as gym\n",
    "import torch\n",
    "\n",
    "import import_ipynb\n",
    "from c_policy_and_value import MODEL_DIR, Policy"
   ]
  },
  {
   "cell_type": "code",
   "execution_count": 2,
   "id": "577ee069-6c37-4638-8a14-f488900e0908",
   "metadata": {},
   "outputs": [],
   "source": [
    "def test(env, policy, num_episodes):\n",
    "    for i in range(num_episodes):\n",
    "        episode_reward = 0  # cumulative_reward\n",
    "\n",
    "        # Environment 초기화와 변수 초기화\n",
    "        observation, _ = env.reset()\n",
    "\n",
    "        episode_steps = 0\n",
    "\n",
    "        done = False\n",
    "\n",
    "        while not done:\n",
    "            episode_steps += 1\n",
    "            # action = policy.get_action(observation)\n",
    "            action = policy.get_action(observation, exploration=False)\n",
    "\n",
    "            next_observation, reward, terminated, truncated, _ = env.step(action * 2)\n",
    "\n",
    "            episode_reward += reward\n",
    "            observation = next_observation\n",
    "            done = terminated or truncated\n",
    "\n",
    "        print(\"[EPISODE: {0}] EPISODE_STEPS: {1:3d}, EPISODE REWARD: {2:4.1f}\".format(\n",
    "            i, episode_steps, episode_reward\n",
    "        ))\n"
   ]
  },
  {
   "cell_type": "code",
   "execution_count": 4,
   "id": "13888c6a-dc12-4f69-9690-ad81d6f8ca3a",
   "metadata": {},
   "outputs": [],
   "source": [
    "def main_play(num_episodes, env_name):\n",
    "    env = gym.make(env_name, render_mode=\"rgb_array\")\n",
    "\n",
    "    policy = Policy(n_features=3, n_actions=1)\n",
    "    model_params = torch.load(os.path.join(MODEL_DIR, \"reinforce_{0}_latest.pth\".format(env_name)))\n",
    "    policy.load_state_dict(model_params)\n",
    "\n",
    "    test(env, policy, num_episodes=num_episodes)\n",
    "\n",
    "    env.close()"
   ]
  },
  {
   "cell_type": "code",
   "execution_count": 5,
   "id": "c5deaaeb-75ee-4f35-970a-d4005ed9c3c7",
   "metadata": {},
   "outputs": [
    {
     "name": "stdout",
     "output_type": "stream",
     "text": [
      "[EPISODE: 0] EPISODE_STEPS: 200, EPISODE REWARD: -390.1\n",
      "[EPISODE: 1] EPISODE_STEPS: 200, EPISODE REWARD: -252.7\n",
      "[EPISODE: 2] EPISODE_STEPS: 200, EPISODE REWARD: -1520.2\n"
     ]
    }
   ],
   "source": [
    "if __name__ == \"__main__\":\n",
    "    NUM_EPISODES = 3\n",
    "    ENV_NAME = \"Pendulum-v1\"\n",
    "\n",
    "    main_play(num_episodes=NUM_EPISODES, env_name=ENV_NAME)"
   ]
  }
 ],
 "metadata": {
  "kernelspec": {
   "display_name": "olympic",
   "language": "python",
   "name": "olympic"
  },
  "language_info": {
   "codemirror_mode": {
    "name": "ipython",
    "version": 3
   },
   "file_extension": ".py",
   "mimetype": "text/x-python",
   "name": "python",
   "nbconvert_exporter": "python",
   "pygments_lexer": "ipython3",
   "version": "3.11.4"
  }
 },
 "nbformat": 4,
 "nbformat_minor": 5
}
