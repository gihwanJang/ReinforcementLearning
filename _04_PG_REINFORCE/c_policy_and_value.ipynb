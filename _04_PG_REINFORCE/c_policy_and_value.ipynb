{
 "cells": [
  {
   "cell_type": "code",
   "execution_count": 1,
   "id": "bc863bc7-de82-4211-81fc-8e73db243d1e",
   "metadata": {},
   "outputs": [],
   "source": [
    "import collections\n",
    "import os\n",
    "import sys\n",
    "from torch import nn\n",
    "import torch\n",
    "import numpy as np\n",
    "from torch.distributions import Normal\n",
    "import torch.nn.functional as F"
   ]
  },
  {
   "cell_type": "code",
   "execution_count": 2,
   "id": "11c4b1f6-9944-4cf7-ae63-fb8f0f063bb7",
   "metadata": {},
   "outputs": [
    {
     "name": "stdout",
     "output_type": "stream",
     "text": [
      "TORCH VERSION: 2.0.1\n"
     ]
    }
   ],
   "source": [
    "print(\"TORCH VERSION:\", torch.__version__)"
   ]
  },
  {
   "cell_type": "code",
   "execution_count": 3,
   "id": "07864854-1e38-4408-8c9a-28e39024872e",
   "metadata": {},
   "outputs": [],
   "source": [
    "CURRENT_PATH = os.path.dirname(\"./\")\n",
    "PROJECT_HOME = os.path.abspath(\"../\")\n",
    "if PROJECT_HOME not in sys.path:\n",
    "    sys.path.append(PROJECT_HOME)"
   ]
  },
  {
   "cell_type": "code",
   "execution_count": 4,
   "id": "b54f2d29-325f-4319-b911-74dc22bf410c",
   "metadata": {},
   "outputs": [],
   "source": [
    "MODEL_DIR = os.path.join(PROJECT_HOME, \"_04_PG_REINFORCE\", \"models\")\n",
    "if not os.path.exists(MODEL_DIR):\n",
    "    os.mkdir(MODEL_DIR)"
   ]
  },
  {
   "cell_type": "code",
   "execution_count": 5,
   "id": "979599b9-4626-4d86-9a8d-7be525a75219",
   "metadata": {},
   "outputs": [],
   "source": [
    "DEVICE = torch.device(\"cuda\" if torch.cuda.is_available() else \"cpu\")"
   ]
  },
  {
   "cell_type": "code",
   "execution_count": 6,
   "id": "578d1166-8540-4b33-b84d-026278fa2111",
   "metadata": {},
   "outputs": [],
   "source": [
    "class Policy(nn.Module):\n",
    "    def __init__(self, n_features=3, n_actions=1):\n",
    "        super(Policy, self).__init__()\n",
    "        self.fc1 = nn.Linear(n_features, 128)\n",
    "        self.fc2 = nn.Linear(128, 128)\n",
    "        self.mu = nn.Linear(128, n_actions)\n",
    "\n",
    "        # ln_e(x) = 1.0 --> x = e^1.0 = 2.71\n",
    "        log_std_param = nn.Parameter(torch.full((n_actions,), 1.0))\n",
    "        self.register_parameter(\"log_std\", log_std_param)\n",
    "        self.to(DEVICE)\n",
    "\n",
    "    def forward(self, x):\n",
    "        if isinstance(x, np.ndarray):\n",
    "            x = torch.tensor(x, dtype=torch.float32, device=DEVICE)\n",
    "        x = F.relu(self.fc1(x))\n",
    "        x = F.relu(self.fc2(x))\n",
    "        mu_v = F.tanh(self.mu(x))\n",
    "\n",
    "        std_v = self.log_std.exp()\n",
    "        std_v = torch.clamp(std_v, min=2.0, max=50)\n",
    "\n",
    "        return mu_v, std_v\n",
    "\n",
    "    def get_action(self, x, exploration=True):\n",
    "        mu_v, std_v = self.forward(x)\n",
    "\n",
    "        if exploration:\n",
    "            dist = Normal(loc=mu_v, scale=std_v)\n",
    "            action = dist.sample()\n",
    "            action = torch.clamp(action, min=-1.0, max=1.0).detach().numpy()\n",
    "        else:\n",
    "            action = mu_v.detach().numpy()\n",
    "        return action"
   ]
  },
  {
   "cell_type": "code",
   "execution_count": 7,
   "id": "21c1ca2b-0c6b-4677-aac1-f3a735d07292",
   "metadata": {},
   "outputs": [],
   "source": [
    "class StateValueNet(nn.Module):\n",
    "    def __init__(self, n_features=3):\n",
    "        super(StateValueNet, self).__init__()\n",
    "        self.fc1 = nn.Linear(n_features, 128)\n",
    "        self.fc2 = nn.Linear(128, 128)\n",
    "        self.fc3 = nn.Linear(128, 1)\n",
    "\n",
    "    def forward(self, x):\n",
    "        if isinstance(x, np.ndarray):\n",
    "            x = torch.tensor(x, dtype=torch.float32, device=DEVICE)\n",
    "        x = F.relu(self.fc1(x))\n",
    "        x = F.relu(self.fc2(x))\n",
    "        x = self.fc3(x)\n",
    "        return x"
   ]
  },
  {
   "cell_type": "code",
   "execution_count": 8,
   "id": "c9dfa9e7-a61c-47ea-aa2f-4b73e2990570",
   "metadata": {},
   "outputs": [],
   "source": [
    "Transition = collections.namedtuple(\n",
    "    typename='Transition',\n",
    "    field_names=['observation', 'action', 'next_observation', 'reward', 'done']\n",
    ")"
   ]
  },
  {
   "cell_type": "code",
   "execution_count": 9,
   "id": "74a95588-3124-4cde-af4e-be8568e52ebf",
   "metadata": {},
   "outputs": [],
   "source": [
    "class Buffer:\n",
    "    def __init__(self):\n",
    "        self.buffer = collections.deque()\n",
    "\n",
    "    def size(self):\n",
    "        return len(self.buffer)\n",
    "\n",
    "    def append(self, transition: Transition) -> None:\n",
    "        self.buffer.append(transition)\n",
    "\n",
    "    def pop(self):\n",
    "        return self.buffer.pop()\n",
    "\n",
    "    def clear(self):\n",
    "        self.buffer.clear()\n",
    "\n",
    "    def get(self):\n",
    "        # Sample\n",
    "        observations, actions, next_observations, rewards, dones = zip(*self.buffer)\n",
    "\n",
    "        # Convert to ndarray for speed up cuda\n",
    "        observations = np.array(observations)\n",
    "        next_observations = np.array(next_observations)\n",
    "        # observations.shape, next_observations.shape: (32, 4), (32, 4)\n",
    "\n",
    "        actions = np.array(actions)\n",
    "        actions = np.expand_dims(actions, axis=-1) if actions.ndim == 1 else actions\n",
    "        rewards = np.array(rewards)\n",
    "        rewards = np.expand_dims(rewards, axis=-1) if rewards.ndim == 1 else rewards\n",
    "        dones = np.array(dones, dtype=bool)\n",
    "        # actions.shape, rewards.shape, dones.shape: (32, 1) (32, 1) (32,)\n",
    "\n",
    "        # Convert to tensor\n",
    "        observations = torch.tensor(observations, dtype=torch.float32, device=DEVICE)\n",
    "        actions = torch.tensor(actions, dtype=torch.int64, device=DEVICE)\n",
    "        next_observations = torch.tensor(next_observations, dtype=torch.float32, device=DEVICE)\n",
    "        rewards = torch.tensor(rewards, dtype=torch.float32, device=DEVICE)\n",
    "        dones = torch.tensor(dones, dtype=torch.bool, device=DEVICE)\n",
    "\n",
    "        return observations, actions, next_observations, rewards, dones"
   ]
  }
 ],
 "metadata": {
  "kernelspec": {
   "display_name": "olympic",
   "language": "python",
   "name": "olympic"
  },
  "language_info": {
   "codemirror_mode": {
    "name": "ipython",
    "version": 3
   },
   "file_extension": ".py",
   "mimetype": "text/x-python",
   "name": "python",
   "nbconvert_exporter": "python",
   "pygments_lexer": "ipython3",
   "version": "3.11.4"
  }
 },
 "nbformat": 4,
 "nbformat_minor": 5
}
