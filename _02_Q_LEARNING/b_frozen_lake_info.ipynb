{
 "cells": [
  {
   "cell_type": "code",
   "execution_count": 1,
   "id": "72eecae1",
   "metadata": {},
   "outputs": [],
   "source": [
    "import gymnasium as gym\n",
    "import time"
   ]
  },
  {
   "cell_type": "code",
   "execution_count": 2,
   "id": "b3f1e0e3",
   "metadata": {},
   "outputs": [],
   "source": [
    "def frozen_lake_1():\n",
    "    env = gym.make('FrozenLake-v1', map_name=\"4x4\", render_mode=\"ansi\")\n",
    "    return env"
   ]
  },
  {
   "cell_type": "markdown",
   "id": "cef658f6",
   "metadata": {},
   "source": [
    "- this environment is 4x4 map\n",
    "- render_mode : this parameter has 3type \n",
    "    1. human : when use this type you can see displayed game window\n",
    "    2. ansi : when use this type you can see displayed game in terminal\n",
    "    3. none : when use this type don't display anything"
   ]
  },
  {
   "cell_type": "code",
   "execution_count": 4,
   "id": "3a97dc77",
   "metadata": {},
   "outputs": [],
   "source": [
    "def frozen_lake_2():\n",
    "    env = gym.make('FrozenLake-v1', map_name=\"4x4\", is_slippery=True, render_mode=\"human\")\n",
    "    return env"
   ]
  },
  {
   "cell_type": "markdown",
   "id": "ab5e33b0",
   "metadata": {},
   "source": [
    "- is_slippery : this parameter has 2type true or false\n",
    "    1. true : when this type is true map has sliding block\n",
    "    2. false : when this type is false map desn't have sliding block"
   ]
  },
  {
   "cell_type": "code",
   "execution_count": 5,
   "id": "19bb766c",
   "metadata": {},
   "outputs": [],
   "source": [
    "def frozen_lake_3():\n",
    "    env = gym.make('FrozenLake-v1', map_name=\"8x8\", render_mode=\"human\")\n",
    "    return env"
   ]
  },
  {
   "cell_type": "code",
   "execution_count": 6,
   "id": "d3b91aeb",
   "metadata": {},
   "outputs": [],
   "source": [
    "def frozen_lake_4():\n",
    "    env = gym.make('FrozenLake-v1', map_name=\"8x8\", is_slippery=False, render_mode=\"human\")\n",
    "    return env"
   ]
  },
  {
   "cell_type": "code",
   "execution_count": 7,
   "id": "e2897b4a",
   "metadata": {},
   "outputs": [],
   "source": [
    "def frozen_lake_5():\n",
    "    desc = [\"SFFF\", \"HFHH\", \"FFFH\", \"HFFF\", \"FFFG\"]\n",
    "    env = gym.make('FrozenLake-v1', desc=desc, render_mode=\"human\")\n",
    "    return env"
   ]
  },
  {
   "cell_type": "markdown",
   "id": "c99c93ae",
   "metadata": {},
   "source": [
    "- desc : this parameter can has char 2D array & make map following this desc\n",
    "- char 2D array : this array can has 4 type of char\n",
    "    1. S : sliding block\n",
    "    2. F : forzen block\n",
    "    3. H : Hole block\n",
    "    4. G : Goal block"
   ]
  },
  {
   "cell_type": "code",
   "execution_count": 9,
   "id": "6e6f2966",
   "metadata": {},
   "outputs": [],
   "source": [
    "def frozen_lake_6():\n",
    "    from gymnasium.envs.toy_text.frozen_lake import generate_random_map\n",
    "    env = gym.make('FrozenLake-v1', desc=generate_random_map(size=8), render_mode=\"human\")\n",
    "    return env"
   ]
  },
  {
   "cell_type": "code",
   "execution_count": 3,
   "id": "9b39ddd7",
   "metadata": {},
   "outputs": [],
   "source": [
    "def run(env):\n",
    "    ACTION_STRING_LIST = ['LEFT', 'DOWN', 'RIGHT', 'UP']\n",
    "    # This sets the initial state at S, our starting point\n",
    "    # We can render the environment to see where we are on the 4x4 frozenlake gridworld\n",
    "    observation, info = env.reset()\n",
    "\n",
    "    action = 2  # RIGHT\n",
    "    next_observation, reward, terminated, truncated, info = env.step(action)\n",
    "\n",
    "    # Prob = 1: deterministic policy, if we choose to go right, we'll go right\n",
    "    print(\"Obs.: {0}, Action: {1}({2}), Next Obs.: {3}, Reward: {4}, Terminated: {5}, Truncated: {6}, Info: {7}\".format(\n",
    "        observation, action, ACTION_STRING_LIST[action], next_observation, reward, terminated, truncated, info\n",
    "    ))\n",
    "\n",
    "    observation = next_observation\n",
    "\n",
    "    time.sleep(3)\n",
    "\n",
    "    action = 1  # DOWN\n",
    "    next_observation, reward, terminated, truncated, info = env.step(action)\n",
    "\n",
    "    print(\"Obs.: {0}, Action: {1}({2}), Next Obs.: {3}, Reward: {4}, Terminated: {5}, Truncated: {6}, Info: {7}\".format(\n",
    "        observation, action, ACTION_STRING_LIST[action], next_observation, reward, terminated, truncated, info\n",
    "    ))\n",
    "\n",
    "    print(\"*\" * 80)\n",
    "    time.sleep(3)"
   ]
  },
  {
   "cell_type": "code",
   "execution_count": 4,
   "id": "3d9ea205",
   "metadata": {},
   "outputs": [
    {
     "name": "stdout",
     "output_type": "stream",
     "text": [
      "Obs.: 0, Action: 2(RIGHT), Next Obs.: 4, Reward: 0.0, Terminated: False, Truncated: False, Info: {'prob': 0.3333333333333333}\n",
      "Obs.: 4, Action: 1(DOWN), Next Obs.: 8, Reward: 0.0, Terminated: False, Truncated: False, Info: {'prob': 0.3333333333333333}\n",
      "********************************************************************************\n"
     ]
    }
   ],
   "source": [
    "if __name__ == \"__main__\":\n",
    "    env = frozen_lake_1()\n",
    "    #env = frozen_lake_2()\n",
    "    #env = frozen_lake_3()\n",
    "    #env = frozen_lake_4()\n",
    "    #env = frozen_lake_5()\n",
    "    #env = frozen_lake_6()\n",
    "\n",
    "    run(env)"
   ]
  }
 ],
 "metadata": {
  "kernelspec": {
   "display_name": "olympic",
   "language": "python",
   "name": "olympic"
  },
  "language_info": {
   "codemirror_mode": {
    "name": "ipython",
    "version": 3
   },
   "file_extension": ".py",
   "mimetype": "text/x-python",
   "name": "python",
   "nbconvert_exporter": "python",
   "pygments_lexer": "ipython3",
   "version": "3.11.4"
  }
 },
 "nbformat": 4,
 "nbformat_minor": 5
}
