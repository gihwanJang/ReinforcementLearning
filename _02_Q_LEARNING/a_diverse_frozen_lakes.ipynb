{
 "cells": [
  {
   "cell_type": "code",
   "execution_count": 1,
   "id": "aeb21779",
   "metadata": {},
   "outputs": [
    {
     "name": "stdout",
     "output_type": "stream",
     "text": [
      "gym.__version__: 0.29.1\n"
     ]
    }
   ],
   "source": [
    "import gymnasium as gym\n",
    "import time\n",
    "from warnings import filterwarnings\n",
    "print(f\"gym.__version__: {gym.__version__}\")"
   ]
  },
  {
   "cell_type": "code",
   "execution_count": 2,
   "id": "44544a0d",
   "metadata": {},
   "outputs": [],
   "source": [
    "env = gym.make('FrozenLake-v1', desc=None, map_name=\"4x4\", is_slippery=False, render_mode=\"human\")"
   ]
  },
  {
   "cell_type": "code",
   "execution_count": 3,
   "id": "734457ee",
   "metadata": {},
   "outputs": [],
   "source": [
    "ACTION_STRING_LIST = [\" LEFT\", \" DOWN\", \"RIGHT\", \"   UP\"]"
   ]
  },
  {
   "cell_type": "code",
   "execution_count": 4,
   "id": "78af79d1",
   "metadata": {},
   "outputs": [],
   "source": [
    "def env_info_details():\n",
    "    #####################\n",
    "    # observation space #\n",
    "    #####################\n",
    "    print(\"*\" * 80)\n",
    "    print(\"[observation_space]\")\n",
    "    print(env.observation_space)\n",
    "    print(env.observation_space.n)\n",
    "    # We should expect to see 15 possible grids from 0 to 15 when\n",
    "    # we uniformly randomly sample from our observation space\n",
    "    for i in range(10):\n",
    "        print(env.observation_space.sample(), end=\" \")\n",
    "    print()\n",
    "\n",
    "    print(\"*\" * 80)\n",
    "    ################\n",
    "    # action space #\n",
    "    ################\n",
    "    print(\"[action_space]\")\n",
    "    print(env.action_space)\n",
    "    print(env.action_space.n)\n",
    "    # We should expect to see 4 actions when\n",
    "    # we uniformly randomly sample:\n",
    "    #     1. LEFT: 0\n",
    "    #     2. DOWN: 1\n",
    "    #     3. RIGHT: 2\n",
    "    #     4. UP: 3\n",
    "    for i in range(10):\n",
    "        print(env.action_space.sample(), end=\" \")\n",
    "    print()\n",
    "\n",
    "    print(\"*\" * 80)\n",
    "    # This sets the initial state at S, our starting point\n",
    "    # We can render the environment to see where we are on the 4x4 frozenlake gridworld\n",
    "    observation, info = env.reset()\n",
    "\n",
    "    action = 2  # RIGHT\n",
    "    next_observation, reward, terminated, truncated, info = env.step(action)\n",
    "\n",
    "    # Prob = 1: deterministic policy, if we choose to go right, we'll go right\n",
    "    print(\"Obs.: {0}, Action: {1}({2}), Next Obs.: {3}, Reward: {4}, Terminated: {5}, Truncated: {6}, Info: {7}\".format(\n",
    "        observation, action, ACTION_STRING_LIST[action], next_observation, reward, terminated, truncated, info\n",
    "    ))\n",
    "\n",
    "    observation = next_observation\n",
    "\n",
    "    time.sleep(3)\n",
    "\n",
    "    action = 1  # DOWN\n",
    "    next_observation, reward, terminated, truncated, info = env.step(action)\n",
    "\n",
    "    print(\"Obs.: {0}, Action: {1}({2}), Next Obs.: {3}, Reward: {4}, Terminated: {5}, Truncated: {6}, Info: {7}\".format(\n",
    "        observation, action, ACTION_STRING_LIST[action], next_observation, reward, terminated, truncated, info\n",
    "    ))\n",
    "\n",
    "    print(\"*\" * 80)\n",
    "    time.sleep(3)"
   ]
  },
  {
   "cell_type": "markdown",
   "id": "d7572b4a",
   "metadata": {},
   "source": [
    "- env.observation_space : 4x4 map -> Discrete(16)\n",
    "- env.observation_space.n : 16\n",
    "- env.observation_space.sample() : pick random observation therefore return 0~15 random value\n",
    "- env.action_space : left, right, up, down -> Discreate(4)\n",
    "- env.action_space.n : 4\n",
    "- env.action_space.sample() : pick random action therefore return 0~3 random value\n",
    "- env.reset() : return observation, info but we don't use info\n",
    "\n",
    "#### observation\n",
    "\n",
    "|  |  |  |  |\n",
    "|--|--|--|--|  \n",
    "| 0| 1| 2| 3|\n",
    "| 4| 5| 6| 7|  \n",
    "| 8| 9|10|11|  \n",
    "|12|13|14|15|  \n",
    "\n",
    "if execute env.rest function, we are located at (observation 0)  \n",
    "And then do (action 2 == right), we are located at (next observation 1)"
   ]
  },
  {
   "cell_type": "code",
   "execution_count": 5,
   "id": "3c14a1e7",
   "metadata": {},
   "outputs": [
    {
     "name": "stdout",
     "output_type": "stream",
     "text": [
      "********************************************************************************\n",
      "[observation_space]\n",
      "Discrete(16)\n",
      "16\n",
      "5 9 8 5 13 8 15 1 6 11 \n",
      "********************************************************************************\n",
      "[action_space]\n",
      "Discrete(4)\n",
      "4\n",
      "1 1 0 1 1 2 3 3 3 3 \n",
      "********************************************************************************\n",
      "Obs.: 0, Action: 2(RIGHT), Next Obs.: 1, Reward: 0.0, Terminated: False, Truncated: False, Info: {'prob': 1.0}\n",
      "Obs.: 1, Action: 1( DOWN), Next Obs.: 5, Reward: 0.0, Terminated: True, Truncated: False, Info: {'prob': 1.0}\n",
      "********************************************************************************\n"
     ]
    }
   ],
   "source": [
    "if __name__ == \"__main__\":\n",
    "    env_info_details()"
   ]
  }
 ],
 "metadata": {
  "kernelspec": {
   "display_name": "olympic",
   "language": "python",
   "name": "olympic"
  },
  "language_info": {
   "codemirror_mode": {
    "name": "ipython",
    "version": 3
   },
   "file_extension": ".py",
   "mimetype": "text/x-python",
   "name": "python",
   "nbconvert_exporter": "python",
   "pygments_lexer": "ipython3",
   "version": "3.11.4"
  }
 },
 "nbformat": 4,
 "nbformat_minor": 5
}
