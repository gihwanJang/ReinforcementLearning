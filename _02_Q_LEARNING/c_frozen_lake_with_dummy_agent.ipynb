{
 "cells": [
  {
   "cell_type": "code",
   "execution_count": 1,
   "id": "3c12135f",
   "metadata": {},
   "outputs": [
    {
     "name": "stdout",
     "output_type": "stream",
     "text": [
      "gym.__version__: 0.29.1\n"
     ]
    }
   ],
   "source": [
    "import gymnasium as gym; print(f\"gym.__version__: {gym.__version__}\")\n",
    "import random\n",
    "import time\n",
    "from warnings import filterwarnings\n",
    "filterwarnings(action='ignore', category=DeprecationWarning)"
   ]
  },
  {
   "cell_type": "code",
   "execution_count": 7,
   "id": "928bbdc7",
   "metadata": {},
   "outputs": [],
   "source": [
    "env = gym.make('FrozenLake-v1', desc=None, map_name=\"4x4\", is_slippery=False, render_mode=\"ansi\")\n",
    "ACTION_STRING_LIST = [\" LEFT\", \" DOWN\", \"RIGHT\", \"   UP\"]"
   ]
  },
  {
   "cell_type": "code",
   "execution_count": 3,
   "id": "4e614a83",
   "metadata": {},
   "outputs": [],
   "source": [
    "class Dummy_Agent:\n",
    "    def get_action(self, observation):\n",
    "        # observation is not used\n",
    "        available_action_ids = [0, 1, 2, 3]\n",
    "        action_id = random.choice(available_action_ids)\n",
    "        return action_id"
   ]
  },
  {
   "cell_type": "markdown",
   "id": "8c307a2c-4e5d-4694-874b-f8462af5b2ff",
   "metadata": {},
   "source": [
    "- Dummy_Agent : this agent choice random action"
   ]
  },
  {
   "cell_type": "code",
   "execution_count": 4,
   "id": "a7e75ac4-c813-49aa-9b4c-4d37cd4f0523",
   "metadata": {},
   "outputs": [],
   "source": [
    "def main():\n",
    "    print(\"START RUN!!!\")\n",
    "    agent = Dummy_Agent()\n",
    "    observation, info = env.reset()\n",
    "\n",
    "    episode_step = 0\n",
    "    done = False\n",
    "\n",
    "    while not done:\n",
    "        action = agent.get_action(observation)\n",
    "        next_observation, reward, terminated, truncated, info = env.step(action)\n",
    "\n",
    "        episode_step += 1\n",
    "        print(\"[Step: {0:3}] Obs.: {1:>2}, Action: {2}({3}), Next Obs.: {4:>2}, \"\n",
    "              \"Reward: {5}, Terminated: {6}, Truncated: {7}, Info: {8}\".format(\n",
    "            episode_step, observation, action, ACTION_STRING_LIST[action],\n",
    "            next_observation, reward, terminated, truncated, info\n",
    "        ))\n",
    "        observation = next_observation\n",
    "        done = terminated or truncated\n",
    "        time.sleep(0.5)"
   ]
  },
  {
   "cell_type": "markdown",
   "id": "4545fb11-f699-48a0-a471-a306abb50993",
   "metadata": {},
   "source": [
    "- terminated : this value has 2type true or false\n",
    "    - when your agent arrive goal this value is true other situation this value is false\n",
    "- truncated : this value has 2type true or false\n",
    "    - when your agent move out of map or repeat same observation this value is true other situation this value is false"
   ]
  },
  {
   "cell_type": "code",
   "execution_count": 5,
   "id": "3cdd43da-6109-42cb-81c4-b1d1cc3b6432",
   "metadata": {},
   "outputs": [
    {
     "name": "stdout",
     "output_type": "stream",
     "text": [
      "START RUN!!!\n",
      "[Step:   1] Obs.:  0, Action: 1( DOWN), Next Obs.:  4, Reward: 0.0, Terminated: False, Truncated: False, Info: {'prob': 1.0}\n",
      "[Step:   2] Obs.:  4, Action: 0( LEFT), Next Obs.:  4, Reward: 0.0, Terminated: False, Truncated: False, Info: {'prob': 1.0}\n",
      "[Step:   3] Obs.:  4, Action: 2(RIGHT), Next Obs.:  5, Reward: 0.0, Terminated: True, Truncated: False, Info: {'prob': 1.0}\n"
     ]
    }
   ],
   "source": [
    "if __name__ == \"__main__\":\n",
    "    main()"
   ]
  }
 ],
 "metadata": {
  "kernelspec": {
   "display_name": "olympic",
   "language": "python",
   "name": "olympic"
  },
  "language_info": {
   "codemirror_mode": {
    "name": "ipython",
    "version": 3
   },
   "file_extension": ".py",
   "mimetype": "text/x-python",
   "name": "python",
   "nbconvert_exporter": "python",
   "pygments_lexer": "ipython3",
   "version": "3.11.4"
  }
 },
 "nbformat": 4,
 "nbformat_minor": 5
}
